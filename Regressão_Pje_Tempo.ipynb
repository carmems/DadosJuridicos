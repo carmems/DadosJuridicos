{
  "nbformat": 4,
  "nbformat_minor": 0,
  "metadata": {
    "colab": {
      "name": "Regressão Pje Tempo.ipynb",
      "provenance": [],
      "collapsed_sections": [],
      "toc_visible": true,
      "machine_shape": "hm"
    },
    "kernelspec": {
      "name": "python3",
      "display_name": "Python 3"
    },
    "accelerator": "GPU"
  },
  "cells": [
    {
      "cell_type": "markdown",
      "metadata": {
        "id": "7k8OQYiIf0vI",
        "colab_type": "text"
      },
      "source": [
        "#Proposta de Projeto\n",
        "\n",
        "Com base nos dados fornecidos do Tribunal Regional Federal da 5ª Região, e tendo como ponto de início os dados de protocolo de um processo, treinar um algoritmo de regressão de modo a supor quanto tempo aquele processo irá durar. \n",
        "\n",
        "As <i>features</i> a serem utilizadas serão encontradas ao longo do desenvolvimento, assim como a melhor métricas para validar esse sistema e quais foram os processos utilizados. \n",
        "\n",
        "Ademais, o trabalho a seguir usará a seguinte estrutura:\n",
        "\n",
        "\n",
        "*  Inicialização e leitura dos dados\n",
        "*  Escolha e separação das features\n",
        "*  Escolha das métricas\n",
        "*  Teste primário\n",
        "*  Melhoria do modelo\n",
        "\n",
        "OBS: Essa proposta de projeto foi posteriormente suspensa, de modo que esse notebook corresponde apenas com as tentativas iniciais de desenvolvimento.\n",
        "\n",
        "\n"
      ]
    },
    {
      "cell_type": "markdown",
      "metadata": {
        "id": "PLGbuX0nfw_A",
        "colab_type": "text"
      },
      "source": [
        "##Inicialização e leitura dos dados"
      ]
    },
    {
      "cell_type": "code",
      "metadata": {
        "id": "6qXq8S4hRnKY",
        "colab_type": "code",
        "colab": {
          "base_uri": "https://localhost:8080/",
          "height": 34
        },
        "outputId": "f1227c43-2dc0-4b58-dcf2-ed1bd0d320bc"
      },
      "source": [
        "from google.colab import drive\n",
        "drive.mount('/content/drive')"
      ],
      "execution_count": null,
      "outputs": [
        {
          "output_type": "stream",
          "text": [
            "Drive already mounted at /content/drive; to attempt to forcibly remount, call drive.mount(\"/content/drive\", force_remount=True).\n"
          ],
          "name": "stdout"
        }
      ]
    },
    {
      "cell_type": "code",
      "metadata": {
        "id": "VrlaD0X5R6F_",
        "colab_type": "code",
        "colab": {
          "base_uri": "https://localhost:8080/",
          "height": 50
        },
        "outputId": "a85fdc1a-e687-4f19-d7cc-d7f7c6ad279c"
      },
      "source": [
        "!unzip '/content/drive/My Drive/Dados IC/IC.zip'"
      ],
      "execution_count": null,
      "outputs": [
        {
          "output_type": "stream",
          "text": [
            "Archive:  /content/drive/My Drive/Dados IC/IC.zip\n",
            "replace PJe-JF.sqlite3? [y]es, [n]o, [A]ll, [N]one, [r]ename: "
          ],
          "name": "stdout"
        }
      ]
    },
    {
      "cell_type": "code",
      "metadata": {
        "id": "FonU34_OSBar",
        "colab_type": "code",
        "colab": {}
      },
      "source": [
        "import pandas as pd\n",
        "import sqlite3\n",
        "import numpy as np\n",
        "import matplotlib.pyplot as plt\n",
        "\n",
        "from sklearn import linear_model\n",
        "from sklearn.metrics import mean_squared_error\n",
        "from sklearn.metrics import median_absolute_error\n",
        "from sklearn.metrics import r2_score\n",
        "from sklearn.model_selection import cross_val_score"
      ],
      "execution_count": null,
      "outputs": []
    },
    {
      "cell_type": "code",
      "metadata": {
        "id": "y2SYPkDTSIQl",
        "colab_type": "code",
        "colab": {}
      },
      "source": [
        "#Conexão e leitura do arquivo PJe-JF.sqlite3\n",
        "#Seções Judiciárias\n",
        "\n",
        "connection = sqlite3.connect('/content/PJe-JF.sqlite3')\n",
        "df_al = pd.read_sql_query(\"SELECT * from AL\", connection)\n",
        "df_ce = pd.read_sql_query(\"SELECT * from CE\", connection)\n",
        "df_pb = pd.read_sql_query(\"SELECT * from PB\", connection)\n",
        "df_pe = pd.read_sql_query(\"SELECT * from PE\", connection)\n",
        "df_rn = pd.read_sql_query(\"SELECT * from RN\", connection)\n",
        "df_se = pd.read_sql_query(\"SELECT * from SE\", connection)\n",
        "\n",
        "data_jf = [df_al, df_ce, df_pb, df_pe, df_rn, df_se]\n",
        "df_jf = pd.concat(data_jf)"
      ],
      "execution_count": null,
      "outputs": []
    },
    {
      "cell_type": "code",
      "metadata": {
        "id": "ZZUImr6YSI13",
        "colab_type": "code",
        "colab": {}
      },
      "source": [
        "#Conexão e leitura do arquivo PJe-TRF.sqlite3\n",
        "#Segundo Grau\n",
        "connection = sqlite3.connect('/content/PJe-TRF.sqlite3')\n",
        "\n",
        "df_proc = pd.read_sql_query(\"SELECT * from processos\", connection)\n",
        "df_dec = pd.read_sql_query(\"SELECT * from decisoes\", connection)\n",
        "df_mov = pd.read_sql_query(\"SELECT * from movimentacoes\", connection)\n"
      ],
      "execution_count": null,
      "outputs": []
    },
    {
      "cell_type": "code",
      "metadata": {
        "id": "qeJL3QUbSQ-9",
        "colab_type": "code",
        "colab": {}
      },
      "source": [
        "#Limpeza dos dados nulos \n",
        "for d in data_jf:\n",
        "  d.drop(d.index[d['num_processo'] == '0'], inplace = True)\n",
        "\n",
        "df_jf.drop(df_jf.index[df_jf['num_processo'] == '0'], inplace = True)"
      ],
      "execution_count": null,
      "outputs": []
    },
    {
      "cell_type": "markdown",
      "metadata": {
        "id": "TQGorLbmti9R",
        "colab_type": "text"
      },
      "source": [
        "##Recolhimento e separação dos dados"
      ]
    },
    {
      "cell_type": "markdown",
      "metadata": {
        "id": "Qdo7e0hTVEh-",
        "colab_type": "text"
      },
      "source": [
        "Todas as informações necessárias encontravam-se espalhadas, cada um em uma tabela diferente. \n",
        "Os dados sobre as datas de encerramento dos processos estavam em df_dec,as datas de distribuições dos processos foram obtidas na tabela de movimentação (df_mov) e todas as outras colunas que apresentam características desses processos (polos, classe judicial, assunto, etc) estavam nas tabelas df_jf e df_proc. "
      ]
    },
    {
      "cell_type": "code",
      "metadata": {
        "id": "Cu_jF5k29kdO",
        "colab_type": "code",
        "colab": {}
      },
      "source": [
        "#Separa, no df das decisões, apenas os processos encerrados (já sentenciados)\n",
        "df_sentencas = df_dec[df_dec['documento'].str.contains(\"Sentença\")]\n",
        "\n",
        "#Separa no df das movimentações os números dos processos que estão em 1º Grau\n",
        "proc_grau1 = (df_mov[df_mov[\"aplicacao\"].str.contains(\"1º\")][\"num_processo\"]).unique()\n",
        "\n",
        "#Filtra para obter apenas os processos sentenciados e de 1º Grau\n",
        "df_sentencas = df_sentencas[df_sentencas[\"num_processo\"].isin(proc_grau1)]"
      ],
      "execution_count": null,
      "outputs": []
    },
    {
      "cell_type": "code",
      "metadata": {
        "id": "SJLuVhWNtuap",
        "colab_type": "code",
        "colab": {}
      },
      "source": [
        "#Separa em uma coluna a data de sentença do processo\n",
        "dfc_sentencas = df_sentencas.copy()\n",
        "datas_sentencas = []\n",
        "\n",
        "for movimentacao in dfc_sentencas['documento']:\n",
        "  data_d = movimentacao.split(\" \")[0]\n",
        "  datas_sentencas.append(data_d)\n",
        "\n",
        "dfc_sentencas['data_sentenca'] = datas_sentencas\n",
        "dfc_sentencas['data_sentenca'] = pd.to_datetime(dfc_sentencas['data_sentenca'])\n",
        "\n",
        "#Ordena os dados por número de processo (do menor pro maior) e depois por data\n",
        "# de sentença (do maior pro menor) e pega a primeira linha pra cada número de processo\n",
        "# Ou seja, pega a mais recente das decisões pra cada processo.\n",
        "df_sentencas_sort = dfc_sentencas.sort_values(['num_processo', 'data_sentenca'], ascending=[True, False])\n",
        "df_sentencas = df_sentencas_sort.groupby('num_processo').first().reset_index()\n"
      ],
      "execution_count": null,
      "outputs": []
    },
    {
      "cell_type": "code",
      "metadata": {
        "id": "U7xWbTFLSGpA",
        "colab_type": "code",
        "colab": {}
      },
      "source": [
        "#Separa, no df das movimentações, os processos de 1º Grau e já sentencias\n",
        "df_mov = df_mov[df_mov[\"aplicacao\"].str.contains(\"1º\")]\n",
        "df_mov_penc = df_mov[df_mov['num_processo'].isin(list(df_sentencas['num_processo']))]\n",
        "\n",
        "datas_mov = []\n",
        "#Separa e transforma em datetime as datas de movimentação dos processos\n",
        "for movimentacao in df_mov_penc['movimento']:\n",
        "  data_d = movimentacao.split(\" \")[0]\n",
        "  datas_mov.append(data_d)\n",
        "\n",
        "df_mov_processos_encerrados = df_mov_penc.copy()\n",
        "df_mov_processos_encerrados['data_mov'] = datas_mov\n",
        "df_mov_processos_encerrados['data_mov'] = pd.to_datetime(df_mov_processos_encerrados['data_mov'])\n",
        "\n",
        "#Ordena os dados por número de processo e depois por data de movimentação \n",
        "# (do menor pro maior) pega a primeira linha pra cada número de processo\n",
        "# Ou seja, pega o movimento mais antigo para cada processo.\n",
        "df_mov_sort = df_mov_processos_encerrados.sort_values(['num_processo', 'data_mov'], ascending=[True, True])\n",
        "df_distrib_processos_encerrados = df_mov_sort.groupby('num_processo').first().reset_index()\n"
      ],
      "execution_count": null,
      "outputs": []
    },
    {
      "cell_type": "code",
      "metadata": {
        "id": "2fonaoKTSJ5i",
        "colab_type": "code",
        "colab": {}
      },
      "source": [
        "#Une os dois datasets (distribuição e sentença) em um só\n",
        "df_distrib_sentenca = pd.merge(df_sentencas, df_distrib_processos_encerrados, on='num_processo')"
      ],
      "execution_count": null,
      "outputs": []
    },
    {
      "cell_type": "code",
      "metadata": {
        "id": "JKbHR0GISein",
        "colab_type": "code",
        "colab": {}
      },
      "source": [
        "#Unindo as tabelas que contém os dados textuais sobre os processos\n",
        "# através do numero de processo e removendo as entradas duplicadas\n",
        "data_merged = pd.merge(left=df_jf,right=df_proc,  left_on='num_processo', right_on='num_processo')\n",
        "new_data = data_merged[data_merged.duplicated(keep='first') == False]"
      ],
      "execution_count": null,
      "outputs": []
    },
    {
      "cell_type": "code",
      "metadata": {
        "id": "nWOJQ-raTIx-",
        "colab_type": "code",
        "colab": {}
      },
      "source": [
        "#Separa, no dataset dos dados sobre os processos, apenas os processos que já aparecem\n",
        "# como encerrados no df de decisões.\n",
        "df_processos_selecionados = new_data[new_data['num_processo'].isin(list(df_sentencas['num_processo']))]"
      ],
      "execution_count": null,
      "outputs": []
    },
    {
      "cell_type": "code",
      "metadata": {
        "id": "Mv-ENVnjTap3",
        "colab_type": "code",
        "colab": {
          "base_uri": "https://localhost:8080/",
          "height": 134
        },
        "outputId": "1f9dbcbc-8156-48dd-9133-c49fab832032"
      },
      "source": [
        "#Une os dados previamento selecionados (os já encerrados) com os\n",
        "# seus respectivos dados, que estavam guardados em outra tabela.  \n",
        "df_processos_encerrados = pd.merge(df_processos_selecionados, df_distrib_sentenca, on='num_processo')\n",
        "df_processos_encerrados.rename(columns={\"data_mov\": \"data_distribuicao\"}, inplace=True)\n",
        "df_processos_encerrados.columns"
      ],
      "execution_count": null,
      "outputs": [
        {
          "output_type": "execute_result",
          "data": {
            "text/plain": [
              "Index(['num_processo', 'classe', 'titular_substituto', 'vara', 'uf',\n",
              "       'polo_ativo_x', 'polo_passivo_x', 'assunto_x', 'ultimo_evento',\n",
              "       'polo_ativo_y', 'polo_passivo_y', 'data_distrib', 'orgao_julgador',\n",
              "       'classe_judicial', 'assunto_y', 'assuntos_tabela', 'url_atual',\n",
              "       'fonte_pagina', 'documento_x', 'html', 'data_sentenca', 'movimento',\n",
              "       'documento_y', 'aplicacao', 'data_distribuicao'],\n",
              "      dtype='object')"
            ]
          },
          "metadata": {
            "tags": []
          },
          "execution_count": 78
        }
      ]
    },
    {
      "cell_type": "code",
      "metadata": {
        "id": "nWDnOSmTXGf1",
        "colab_type": "code",
        "colab": {}
      },
      "source": [
        "df_processos = df_processos_encerrados[['num_processo', 'classe', 'titular_substituto', 'vara', 'uf',\n",
        "                                        'polo_ativo_x', 'polo_passivo_x', 'assunto_x', 'ultimo_evento',\n",
        "                                        'polo_ativo_y', 'polo_passivo_y', 'data_distrib', 'orgao_julgador',\n",
        "                                        'classe_judicial', 'assunto_y', 'assuntos_tabela', \n",
        "                                        'data_sentenca', 'data_distribuicao']].copy()\n",
        "df_processos.head(3)"
      ],
      "execution_count": null,
      "outputs": []
    },
    {
      "cell_type": "code",
      "metadata": {
        "id": "GglFECVseDkz",
        "colab_type": "code",
        "colab": {}
      },
      "source": [
        "direitos = []\n",
        "assunto_especifico = []\n",
        "\n",
        "for assunto in df_processos['assuntos_tabela']:\n",
        "  assuntos = assunto.split(\"|\")\n",
        "  direitos.append(assuntos[0])\n",
        "  assunto_especifico.append(assuntos[-1])\n"
      ],
      "execution_count": null,
      "outputs": []
    },
    {
      "cell_type": "code",
      "metadata": {
        "id": "lDyxzFwcdmLc",
        "colab_type": "code",
        "colab": {
          "base_uri": "https://localhost:8080/",
          "height": 551
        },
        "outputId": "f62b7a9a-f56b-40d1-8ba5-d12b14a394c2"
      },
      "source": [
        "df_processos['tempo_processual'] = df_processos['data_sentenca'] - df_processos[\"data_distribuicao\"]\n",
        "df_processos['tipo_direito'] = direitos\n",
        "df_processos['assunto_especifico'] = assunto_especifico\n",
        "\n",
        "df_processos.head()"
      ],
      "execution_count": null,
      "outputs": [
        {
          "output_type": "execute_result",
          "data": {
            "text/html": [
              "<div>\n",
              "<style scoped>\n",
              "    .dataframe tbody tr th:only-of-type {\n",
              "        vertical-align: middle;\n",
              "    }\n",
              "\n",
              "    .dataframe tbody tr th {\n",
              "        vertical-align: top;\n",
              "    }\n",
              "\n",
              "    .dataframe thead th {\n",
              "        text-align: right;\n",
              "    }\n",
              "</style>\n",
              "<table border=\"1\" class=\"dataframe\">\n",
              "  <thead>\n",
              "    <tr style=\"text-align: right;\">\n",
              "      <th></th>\n",
              "      <th>num_processo</th>\n",
              "      <th>classe</th>\n",
              "      <th>titular_substituto</th>\n",
              "      <th>vara</th>\n",
              "      <th>uf</th>\n",
              "      <th>polo_ativo_x</th>\n",
              "      <th>polo_passivo_x</th>\n",
              "      <th>assunto_x</th>\n",
              "      <th>ultimo_evento</th>\n",
              "      <th>polo_ativo_y</th>\n",
              "      <th>polo_passivo_y</th>\n",
              "      <th>data_distrib</th>\n",
              "      <th>orgao_julgador</th>\n",
              "      <th>classe_judicial</th>\n",
              "      <th>assunto_y</th>\n",
              "      <th>assuntos_tabela</th>\n",
              "      <th>data_sentenca</th>\n",
              "      <th>data_distribuicao</th>\n",
              "      <th>tempo_processual</th>\n",
              "      <th>tipo_direito</th>\n",
              "      <th>assunto_especifico</th>\n",
              "    </tr>\n",
              "  </thead>\n",
              "  <tbody>\n",
              "    <tr>\n",
              "      <th>0</th>\n",
              "      <td>0811659-57.2017.4.05.8000</td>\n",
              "      <td>PROCEDIMENTO COMUM</td>\n",
              "      <td>S</td>\n",
              "      <td>4ª VARA FEDERAL</td>\n",
              "      <td>AL</td>\n",
              "      <td>AUTOR LOURDES DE ARAUJO SILVA SOUZA</td>\n",
              "      <td>RÉU INSTITUTO NACIONAL DO SEGURO SOCIAL - INSS</td>\n",
              "      <td>DIREITO PREVIDENCIÁRIO|Pedidos Genéricos Relat...</td>\n",
              "      <td>Remetidos os Autos (em grau de recurso) para TRF5</td>\n",
              "      <td>LOURDES DE ARAUJO SILVA SOUZA\\nAPELANTE\\n    L...</td>\n",
              "      <td>INSTITUTO NACIONAL DO SEGURO SOCIAL - INSS\\nAP...</td>\n",
              "      <td>10/01/2019</td>\n",
              "      <td>Gab 5 - Des. ROBERTO MACHADO</td>\n",
              "      <td>APELAÇÃO CÍVEL</td>\n",
              "      <td>DIREITO PREVIDENCIÁRIO|Pedidos Genéricos Relat...</td>\n",
              "      <td>DIREITO PREVIDENCIÁRIO|Pedidos Genéricos Relat...</td>\n",
              "      <td>2018-05-07</td>\n",
              "      <td>2017-12-29</td>\n",
              "      <td>129 days</td>\n",
              "      <td>DIREITO PREVIDENCIÁRIO</td>\n",
              "      <td>Concessão</td>\n",
              "    </tr>\n",
              "    <tr>\n",
              "      <th>1</th>\n",
              "      <td>0811659-57.2017.4.05.8000</td>\n",
              "      <td>PROCEDIMENTO COMUM</td>\n",
              "      <td>S</td>\n",
              "      <td>4ª VARA FEDERAL</td>\n",
              "      <td>AL</td>\n",
              "      <td>AUTOR LOURDES DE ARAUJO SILVA SOUZA</td>\n",
              "      <td>RÉU INSTITUTO NACIONAL DO SEGURO SOCIAL - INSS</td>\n",
              "      <td>DIREITO PREVIDENCIÁRIO|Pedidos Genéricos Relat...</td>\n",
              "      <td>Remetidos os Autos (em grau de recurso) para TRF5</td>\n",
              "      <td>LOURDES DE ARAUJO SILVA SOUZA\\nAPELANTE\\n    L...</td>\n",
              "      <td>INSTITUTO NACIONAL DO SEGURO SOCIAL - INSS\\nAP...</td>\n",
              "      <td>10/01/2019</td>\n",
              "      <td>Gab 5 - Des. ROBERTO MACHADO</td>\n",
              "      <td>APELAÇÃO CÍVEL</td>\n",
              "      <td>DIREITO PREVIDENCIÁRIO|Pedidos Genéricos Relat...</td>\n",
              "      <td>DIREITO PREVIDENCIÁRIO|Pedidos Genéricos Relat...</td>\n",
              "      <td>2018-05-07</td>\n",
              "      <td>2017-12-29</td>\n",
              "      <td>129 days</td>\n",
              "      <td>DIREITO PREVIDENCIÁRIO</td>\n",
              "      <td>Concessão</td>\n",
              "    </tr>\n",
              "    <tr>\n",
              "      <th>2</th>\n",
              "      <td>0811658-72.2017.4.05.8000</td>\n",
              "      <td>PROCEDIMENTO COMUM</td>\n",
              "      <td>S</td>\n",
              "      <td>1ª VARA FEDERAL</td>\n",
              "      <td>AL</td>\n",
              "      <td>AUTOR MARIA BENEDITA FERREIRA DOS SANTOS</td>\n",
              "      <td>RÉU INSTITUTO NACIONAL DO SEGURO SOCIAL - INSS</td>\n",
              "      <td>DIREITO PREVIDENCIÁRIO|Pedidos Genéricos Relat...</td>\n",
              "      <td>Remetidos os Autos (em grau de recurso) para TRF5</td>\n",
              "      <td>MARIA BENEDITA FERREIRA DOS SANTOS\\nAPELANTE\\n...</td>\n",
              "      <td>INSTITUTO NACIONAL DO SEGURO SOCIAL - INSS\\nAP...</td>\n",
              "      <td>10/05/2018</td>\n",
              "      <td>Gab 8 - Des. FERNANDO BRAGA</td>\n",
              "      <td>APELAÇÃO CÍVEL</td>\n",
              "      <td>DIREITO PREVIDENCIÁRIO|Pedidos Genéricos Relat...</td>\n",
              "      <td>DIREITO PREVIDENCIÁRIO|Pedidos Genéricos Relat...</td>\n",
              "      <td>2018-04-18</td>\n",
              "      <td>2017-12-29</td>\n",
              "      <td>110 days</td>\n",
              "      <td>DIREITO PREVIDENCIÁRIO</td>\n",
              "      <td>RMI sem incidência de Teto Limitador</td>\n",
              "    </tr>\n",
              "    <tr>\n",
              "      <th>3</th>\n",
              "      <td>0811658-72.2017.4.05.8000</td>\n",
              "      <td>PROCEDIMENTO COMUM</td>\n",
              "      <td>S</td>\n",
              "      <td>1ª VARA FEDERAL</td>\n",
              "      <td>AL</td>\n",
              "      <td>AUTOR MARIA BENEDITA FERREIRA DOS SANTOS</td>\n",
              "      <td>RÉU INSTITUTO NACIONAL DO SEGURO SOCIAL - INSS</td>\n",
              "      <td>DIREITO PREVIDENCIÁRIO|Pedidos Genéricos Relat...</td>\n",
              "      <td>Remetidos os Autos (em grau de recurso) para TRF5</td>\n",
              "      <td>MARIA BENEDITA FERREIRA DOS SANTOS\\nAPELANTE\\n...</td>\n",
              "      <td>INSTITUTO NACIONAL DO SEGURO SOCIAL - INSS\\nAP...</td>\n",
              "      <td>10/05/2018</td>\n",
              "      <td>Gab 8 - Des. FERNANDO BRAGA</td>\n",
              "      <td>APELAÇÃO CÍVEL</td>\n",
              "      <td>DIREITO PREVIDENCIÁRIO|Pedidos Genéricos Relat...</td>\n",
              "      <td>DIREITO PREVIDENCIÁRIO|Pedidos Genéricos Relat...</td>\n",
              "      <td>2018-04-18</td>\n",
              "      <td>2017-12-29</td>\n",
              "      <td>110 days</td>\n",
              "      <td>DIREITO PREVIDENCIÁRIO</td>\n",
              "      <td>RMI sem incidência de Teto Limitador</td>\n",
              "    </tr>\n",
              "    <tr>\n",
              "      <th>4</th>\n",
              "      <td>0811657-87.2017.4.05.8000</td>\n",
              "      <td>PROCEDIMENTO COMUM</td>\n",
              "      <td>S</td>\n",
              "      <td>2ª VARA FEDERAL</td>\n",
              "      <td>AL</td>\n",
              "      <td>AUTOR GILBERTO FIRMINO DOS SANTOS</td>\n",
              "      <td>RÉU INSTITUTO NACIONAL DO SEGURO SOCIAL - INSS</td>\n",
              "      <td>DIREITO PREVIDENCIÁRIO|Pedidos Genéricos Relat...</td>\n",
              "      <td>Juntada de Certidão de Intimação</td>\n",
              "      <td>GILBERTO FIRMINO DOS SANTOS\\nAPELANTE\\n    LUI...</td>\n",
              "      <td>INSTITUTO NACIONAL DO SEGURO SOCIAL - INSS\\nAP...</td>\n",
              "      <td>20/08/2018</td>\n",
              "      <td>Gab 13 - Des. ROGÉRIO FIALHO MOREIRA</td>\n",
              "      <td>APELAÇÃO CÍVEL</td>\n",
              "      <td>DIREITO PREVIDENCIÁRIO|Pedidos Genéricos Relat...</td>\n",
              "      <td>DIREITO PREVIDENCIÁRIO|Pedidos Genéricos Relat...</td>\n",
              "      <td>2018-01-06</td>\n",
              "      <td>2017-12-29</td>\n",
              "      <td>8 days</td>\n",
              "      <td>DIREITO PREVIDENCIÁRIO</td>\n",
              "      <td>Concessão</td>\n",
              "    </tr>\n",
              "  </tbody>\n",
              "</table>\n",
              "</div>"
            ],
            "text/plain": [
              "                num_processo  ...                    assunto_especifico\n",
              "0  0811659-57.2017.4.05.8000  ...                             Concessão\n",
              "1  0811659-57.2017.4.05.8000  ...                             Concessão\n",
              "2  0811658-72.2017.4.05.8000  ...  RMI sem incidência de Teto Limitador\n",
              "3  0811658-72.2017.4.05.8000  ...  RMI sem incidência de Teto Limitador\n",
              "4  0811657-87.2017.4.05.8000  ...                             Concessão\n",
              "\n",
              "[5 rows x 21 columns]"
            ]
          },
          "metadata": {
            "tags": []
          },
          "execution_count": 88
        }
      ]
    },
    {
      "cell_type": "code",
      "metadata": {
        "id": "NokR_7GzqJDT",
        "colab_type": "code",
        "colab": {}
      },
      "source": [
        "df_processos['tempo_processual'] = df_processos['tempo_processual'].astype(str)\n",
        "df_processos['tempo_processual'] = df_processos['tempo_processual'].str.extract('(\\d+)', expand=False)\n",
        "df_processos['tempo_processual'] = df_processos['tempo_processual'].astype(float)\n"
      ],
      "execution_count": null,
      "outputs": []
    },
    {
      "cell_type": "markdown",
      "metadata": {
        "id": "tbAXJHcOfdy3",
        "colab_type": "text"
      },
      "source": [
        "###OUTROS"
      ]
    },
    {
      "cell_type": "code",
      "metadata": {
        "id": "_E-Y2oVyg-ja",
        "colab_type": "code",
        "colab": {}
      },
      "source": [
        "df_processos_copy = df_processos.copy()\n",
        "\n",
        "# Existe um total de 46214 linhas do df, de forma que o número 462 foi\n",
        "# escolhido de modo a agrupar todos os assuntos que apareciam com\n",
        "# frequencia menor que 1% (ou de 0.5%, como no primeiro caso)\n",
        "df_processos_copy.loc[df_processos_copy['assunto_especifico'].value_counts()\n",
        "  [df_processos_copy['assunto_especifico']].values < 462, 'assunto_especifico'] = \"Outros\"\n",
        "\n",
        "df_processos_copy.loc[df_processos_copy['classe'].value_counts()\n",
        "  [df_processos_copy['classe']].values < 462, 'classe'] = \"OUTRA\"  "
      ],
      "execution_count": null,
      "outputs": []
    },
    {
      "cell_type": "code",
      "metadata": {
        "id": "BWIXd7XtmK21",
        "colab_type": "code",
        "colab": {
          "base_uri": "https://localhost:8080/",
          "height": 134
        },
        "outputId": "e9a95f6a-4ddc-49e1-ff09-327663bfd8d2"
      },
      "source": [
        "df_processos_copy.columns"
      ],
      "execution_count": null,
      "outputs": [
        {
          "output_type": "execute_result",
          "data": {
            "text/plain": [
              "Index(['num_processo', 'classe', 'titular_substituto', 'vara', 'uf',\n",
              "       'polo_ativo_x', 'polo_passivo_x', 'assunto_x', 'ultimo_evento',\n",
              "       'polo_ativo_y', 'polo_passivo_y', 'data_distrib', 'orgao_julgador',\n",
              "       'classe_judicial', 'assunto_y', 'assuntos_tabela', 'data_sentenca',\n",
              "       'data_distribuicao', 'tempo_processual', 'tipo_direito',\n",
              "       'assunto_especifico'],\n",
              "      dtype='object')"
            ]
          },
          "metadata": {
            "tags": []
          },
          "execution_count": 108
        }
      ]
    },
    {
      "cell_type": "markdown",
      "metadata": {
        "id": "7FtFGC0PJZur",
        "colab_type": "text"
      },
      "source": [
        "##Train and Test"
      ]
    },
    {
      "cell_type": "code",
      "metadata": {
        "id": "r3j9R6NFfpCc",
        "colab_type": "code",
        "colab": {}
      },
      "source": [
        "df_processos = df_processos_copy.copy()\n",
        "df = df_processos[['assunto_y', 'uf', 'tempo_processual']]"
      ],
      "execution_count": null,
      "outputs": []
    },
    {
      "cell_type": "code",
      "metadata": {
        "id": "48uZBJYgJkWR",
        "colab_type": "code",
        "colab": {
          "base_uri": "https://localhost:8080/",
          "height": 67
        },
        "outputId": "34037e5d-c0dd-4577-b5d8-04a2f84a7ae2"
      },
      "source": [
        "x_values = df_processos[['assunto_y', 'uf']]\n",
        "x_values = pd.get_dummies(x_values, ['assunto_y', 'uf'], drop_first=True).values\n",
        "\n",
        "y_values = (df_processos['tempo_processual']).values\n",
        "y_values = y_values.reshape(-1,1)\n",
        "\n",
        "df_values = np.concatenate((x_values, y_values), axis=1)\n",
        "\n",
        "print(x_values.shape)\n",
        "print(y_values.shape)\n",
        "print(df_values.shape)"
      ],
      "execution_count": null,
      "outputs": [
        {
          "output_type": "stream",
          "text": [
            "(44734, 749)\n",
            "(44734, 1)\n",
            "(44734, 750)\n"
          ],
          "name": "stdout"
        }
      ]
    },
    {
      "cell_type": "code",
      "metadata": {
        "id": "ipDIAIPzOoT_",
        "colab_type": "code",
        "colab": {}
      },
      "source": [
        "from sklearn.preprocessing import Normalizer\n",
        "\n",
        "normalizer = Normalizer()\n",
        "df_values_norm = normalizer.fit_transform(df_values)\n",
        "x_values_norm = normalizer.fit_transform(x_values)\n",
        "y_values_norm = normalizer.fit_transform(y_values)\n"
      ],
      "execution_count": null,
      "outputs": []
    },
    {
      "cell_type": "code",
      "metadata": {
        "id": "oxNN0nLhJg0R",
        "colab_type": "code",
        "colab": {
          "base_uri": "https://localhost:8080/",
          "height": 50
        },
        "outputId": "2796f012-fbf4-462f-ea2d-cc14d8680fab"
      },
      "source": [
        "from sklearn.model_selection import train_test_split\n",
        "\n",
        "xTrain, xTest, yTrain, yTest = train_test_split(x_values, y_values, test_size = 0.3, random_state = 1)\n",
        "print(xTrain.shape)\n",
        "print(yTrain.shape)"
      ],
      "execution_count": null,
      "outputs": [
        {
          "output_type": "stream",
          "text": [
            "(31313, 749)\n",
            "(31313, 1)\n"
          ],
          "name": "stdout"
        }
      ]
    },
    {
      "cell_type": "markdown",
      "metadata": {
        "id": "F-IsULXXOkIp",
        "colab_type": "text"
      },
      "source": [
        "##Linear Regression"
      ]
    },
    {
      "cell_type": "code",
      "metadata": {
        "id": "bqLGqmgVLouL",
        "colab_type": "code",
        "colab": {
          "base_uri": "https://localhost:8080/",
          "height": 50
        },
        "outputId": "b7eda64d-1944-4d22-fbc8-e369bb60ef5f"
      },
      "source": [
        "reg = linear_model.LinearRegression()\n",
        "reg.fit(xTrain, yTrain)\n",
        "time_predict = reg.predict(xTest)\n",
        "\n",
        "yTest = yTest.reshape(-1, 1)\n",
        "#time_predict = time_predict.reshape(-1, 1)\n",
        "\n",
        "print(\"Mean Squared Error:\", mean_squared_error(yTest, time_predict))\n",
        "print(\"Coeficiente de determinação\", r2_score(yTest, time_predict))\n"
      ],
      "execution_count": null,
      "outputs": [
        {
          "output_type": "stream",
          "text": [
            "Mean Squared Error: 1.6457203951060405e+25\n",
            "Coeficiente de determinação -1.7711865721780755e+20\n"
          ],
          "name": "stdout"
        }
      ]
    },
    {
      "cell_type": "code",
      "metadata": {
        "id": "dEssTAPXQSM9",
        "colab_type": "code",
        "colab": {
          "base_uri": "https://localhost:8080/",
          "height": 34
        },
        "outputId": "e9f966bb-d696-48f0-8923-ce3266acb7ac"
      },
      "source": [
        "#Usando Cross-Validation\n",
        "\n",
        "reg = linear_model.LinearRegression()\n",
        "cv_score = cross_val_score(reg, x_values, y_values, cv=4)  # k = 4\n",
        "\n",
        "cv_score"
      ],
      "execution_count": null,
      "outputs": [
        {
          "output_type": "execute_result",
          "data": {
            "text/plain": [
              "array([-9.12472186e+23, -1.16535603e+19, -3.28476152e+20, -9.20611968e+10])"
            ]
          },
          "metadata": {
            "tags": []
          },
          "execution_count": 103
        }
      ]
    },
    {
      "cell_type": "markdown",
      "metadata": {
        "id": "FVL8YO-LfS0_",
        "colab_type": "text"
      },
      "source": [
        "###Sobre as métricas\n",
        "\n",
        "Existe um momento na separação dos dados que optei por agrupar classes e assuntos específicos que aparecessem no dataframe com uma frequência menor do que 1%. Essas classes e assuntos foram agrupados com os títulos de \"OUTRA\" e \"Outros\", respectivamente. \n",
        "\n",
        "Quando o modelo é treinado com essa parte do código funcionando, temos os seguintes resultados: <br/>\n",
        "Mean Squared Error: 152682.49874786718 <br/>\n",
        "R2: 0.3251096962283918\n",
        "\n",
        "E quanto o modelo é treinado com essa opção desabilitada, temos o seguinte: <br/>\n",
        "Mean Squared Error: 3.697330763076892e+19 </br>\n",
        "Coeficiente de determinação -163430170602438.94"
      ]
    },
    {
      "cell_type": "markdown",
      "metadata": {
        "id": "y6BMmH1XOofD",
        "colab_type": "text"
      },
      "source": [
        "##Ridge Regression\n"
      ]
    },
    {
      "cell_type": "code",
      "metadata": {
        "id": "TV7_3VlmOrpN",
        "colab_type": "code",
        "colab": {
          "base_uri": "https://localhost:8080/",
          "height": 134
        },
        "outputId": "5958ce00-323c-4f8a-c6df-4823d9ed15e6"
      },
      "source": [
        "alphas = [0.1, 0.2, 0.3]\n",
        "reg = linear_model.RidgeCV(alphas=alphas)\n",
        "\n",
        "reg.fit(xTrain, yTrain)\n",
        "#print('Coefficients: {}\\n'.format(repr(reg.coef_)))\n",
        "print('Intercept: {}\\n'.format(reg.intercept_))\n",
        "print('Chosen alpha: {}\\n'.format(reg.alpha_))\n",
        "\n",
        "\n",
        "r2 = r2_score(yTest, time_predict)\n",
        "print(\"Mean Squared Error:\", mean_squared_error(yTest, time_predict))\n",
        "print('R2: {}\\n'.format(r2))"
      ],
      "execution_count": null,
      "outputs": [
        {
          "output_type": "stream",
          "text": [
            "Intercept: [460.77508452]\n",
            "\n",
            "Chosen alpha: 0.2\n",
            "\n",
            "Mean Squared Error: 83875.38425048719\n",
            "R2: 0.09730137171225217\n",
            "\n"
          ],
          "name": "stdout"
        }
      ]
    }
  ]
}